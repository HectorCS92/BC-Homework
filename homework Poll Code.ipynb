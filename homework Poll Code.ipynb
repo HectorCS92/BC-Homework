{
 "cells": [
  {
   "cell_type": "code",
   "execution_count": null,
   "metadata": {},
   "outputs": [],
   "source": [
    "import pandas as pd"
   ]
  },
  {
   "cell_type": "code",
   "execution_count": null,
   "metadata": {},
   "outputs": [],
   "source": [
    "csv_path = \"homeworkpoll.csv\"\n",
    "dta_hmwk=pd.read_csv(csv_path)\n",
    "election_data.head()"
   ]
  },
  {
   "cell_type": "code",
   "execution_count": null,
   "metadata": {},
   "outputs": [],
   "source": [
    "votes=len(dta_hmwk [\"Voter ID\"].value_counts())\n",
    "votes\n",
    "\"votes: {}\".format(votes)"
   ]
  },
  {
   "cell_type": "code",
   "execution_count": null,
   "metadata": {},
   "outputs": [],
   "source": [
    "votes_khan=len(election[election[\"Candidate\"]==\"Khan\"])\n",
    "votes_khan\n",
    "\"Khan: {}\".format(votes_khan)"
   ]
  },
  {
   "cell_type": "code",
   "execution_count": null,
   "metadata": {},
   "outputs": [],
   "source": [
    "pctg_Khan=votes_khan/total_votes\n",
    "pctg_khan2=(\"Khan: \"+\"{:.2%}\".format(pctg_khan))\n",
    "pctg_khan2, votes_khan"
   ]
  },
  {
   "cell_type": "code",
   "execution_count": null,
   "metadata": {},
   "outputs": [],
   "source": [
    "votes_correy=len(dta_hmwk[dta_hmwk[\"Candidate\"]==\"Correy\"])\n",
    "votes_correy\n",
    "\"Correy: {}\".format(votes_correy)"
   ]
  },
  {
   "cell_type": "code",
   "execution_count": null,
   "metadata": {},
   "outputs": [],
   "source": [
    "pctg_correy=votes_correy/total_votes\n",
    "pctg_correy2=(\"Correy: \"+\"{:.2%}\".format(pctg_correy))\n",
    "pctg_correy2, votes_correy"
   ]
  },
  {
   "cell_type": "code",
   "execution_count": null,
   "metadata": {},
   "outputs": [],
   "source": [
    "votes_li=len(dta_hmwk[dta_hmwk[\"Candidate\"]==\"Li\"])\n",
    "votes_li\n",
    "\"Li: {}\".format(votes_li)"
   ]
  },
  {
   "cell_type": "code",
   "execution_count": null,
   "metadata": {},
   "outputs": [],
   "source": [
    "pctg_li=votes_li/total_votes\n",
    "pctg_li2=(\"Li: \"+\"{:.2%}\".format(pctg_li))\n",
    "pctg_li2, votes_li"
   ]
  },
  {
   "cell_type": "code",
   "execution_count": null,
   "metadata": {},
   "outputs": [],
   "source": [
    "votes_otooley=len(dta_hmwk[dta_hmwk[\"Candidate\"]==\"O'Tooley\"])\n",
    "votes_otooley\n",
    "\"Otooley: {}\".format(votes_otooley)"
   ]
  },
  {
   "cell_type": "code",
   "execution_count": null,
   "metadata": {},
   "outputs": [],
   "source": [
    "pctg_otooley=votes_otooley/total_votes\n",
    "pctg_otooley2=(\"O´Tooley: \"+\"{:.2%}\".format(pctg_otooley))\n",
    "pctg_otooley2, votes_otooley"
   ]
  },
  {
   "cell_type": "code",
   "execution_count": null,
   "metadata": {},
   "outputs": [],
   "source": [
    "print(\"Total votes: {}\".format(total_votes))\n",
    "print(\"----------------------\")\n",
    "print(pctg_khan2, votes_khan)\n",
    "print(pctg_correy2, votes_correy)\n",
    "print(pctg_li2, votes_li)\n",
    "print(pctg_otooley2, votes_otooley)\n",
    "print(\"----------------------\")\n",
    "print(\"Winner: Khan with {} votes\".format(votes_khan))"
   ]
  }
 ],
 "metadata": {
  "kernelspec": {
   "display_name": "Python 3",
   "language": "python",
   "name": "python3"
  },
  "language_info": {
   "codemirror_mode": {
    "name": "ipython",
    "version": 3
   },
   "file_extension": ".py",
   "mimetype": "text/x-python",
   "name": "python",
   "nbconvert_exporter": "python",
   "pygments_lexer": "ipython3",
   "version": "3.7.4"
  }
 },
 "nbformat": 4,
 "nbformat_minor": 2
}
