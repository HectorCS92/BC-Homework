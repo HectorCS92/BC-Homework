{
 "cells": [
  {
   "cell_type": "code",
   "execution_count": null,
   "metadata": {},
   "outputs": [],
   "source": [
    "import pandas as pd"
   ]
  },
  {
   "cell_type": "code",
   "execution_count": null,
   "metadata": {},
   "outputs": [],
   "source": [
    "csv_path = \"homework_budget.csv\"\n",
    "budget=pd.read_csv(csv_path)\n",
    "budget.head()"
   ]
  },
  {
   "cell_type": "code",
   "execution_count": null,
   "metadata": {},
   "outputs": [],
   "source": [
    "budget[\"Date\"].sum()"
   ]
  },
  {
   "cell_type": "code",
   "execution_count": null,
   "metadata": {},
   "outputs": [],
   "source": [
    "total_months=len(budget [\"Date\"].value_counts())\n",
    "total_months\n",
    "\"Total months: {}\".format(total_months)"
   ]
  },
  {
   "cell_type": "code",
   "execution_count": null,
   "metadata": {},
   "outputs": [],
   "source": [
    "total_profit=budget[\"Profit/Losses\"].sum()\n",
    "\"Total profit: ${}\".format(total_profit)"
   ]
  },
  {
   "cell_type": "code",
   "execution_count": null,
   "metadata": {},
   "outputs": [],
   "source": [
    "percent_change=budget[\"Profit/Losses\"].diff()\n",
    "percent_change"
   ]
  },
  {
   "cell_type": "code",
   "execution_count": null,
   "metadata": {},
   "outputs": [],
   "source": [
    "avg_change=percent_change.mean()\n",
    "avg_change\n",
    "\"Average change: {}\".format(avg_change)"
   ]
  },
  {
   "cell_type": "code",
   "execution_count": null,
   "metadata": {},
   "outputs": [],
   "source": [
    "budget[\"Average change\"]=percent_change\n",
    "budget"
   ]
  },
  {
   "cell_type": "code",
   "execution_count": null,
   "metadata": {},
   "outputs": [],
   "source": [
    "greatest_increase=percent_change.max()\n",
    "greatest_increase\n",
    "\"Greatest increase in profit: ${}\".format(greatest_increase)"
   ]
  },
  {
   "cell_type": "code",
   "execution_count": null,
   "metadata": {},
   "outputs": [],
   "source": [
    "greatest_decrease=percent_change.min()\n",
    "greatest_decrease\n",
    "\"Greatest decrease in profit: ${}\".format(greatest_decrease)"
   ]
  },
  {
   "cell_type": "code",
   "execution_count": null,
   "metadata": {},
   "outputs": [],
   "source": [
    "budget.loc[budget['Average change'] == 1926159.0]"
   ]
  },
  {
   "cell_type": "code",
   "execution_count": null,
   "metadata": {},
   "outputs": [],
   "source": [
    "budget.loc[budget['Average change'] == -2196167.0]\n",
    "print(\"Financial Analysis\")\n",
    "print(\"----------------------\")\n",
    "print(\"Total months: {}\".format(total_months))\n",
    "print(\"Average change: {}\".format(avg_change))\n",
    "print(\"Greatest increase in profit: feb-12 (${})\".format(greatest_increase))\n",
    "print(\"Greatest decrease in profit: sep-13 (${})\".format(greatest_decrease))"
   ]
  },
  {
   "cell_type": "code",
   "execution_count": null,
   "metadata": {},
   "outputs": [],
   "source": []
  }
 ],
 "metadata": {
  "kernelspec": {
   "display_name": "Python 3",
   "language": "python",
   "name": "python3"
  },
  "language_info": {
   "codemirror_mode": {
    "name": "ipython",
    "version": 3
   },
   "file_extension": ".py",
   "mimetype": "text/x-python",
   "name": "python",
   "nbconvert_exporter": "python",
   "pygments_lexer": "ipython3",
   "version": "3.7.4"
  }
 },
 "nbformat": 4,
 "nbformat_minor": 2
}
